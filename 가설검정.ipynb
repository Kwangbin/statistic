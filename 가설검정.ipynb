{
  "nbformat": 4,
  "nbformat_minor": 0,
  "metadata": {
    "colab": {
      "name": "가설검정.ipynb",
      "provenance": [],
      "mount_file_id": "1N61mIhr_6Uu2ywQCpWUX_7FvKfhPD6ge",
      "authorship_tag": "ABX9TyOmqRCUfc/forzzdIqIkre8",
      "include_colab_link": true
    },
    "kernelspec": {
      "name": "python3",
      "display_name": "Python 3"
    },
    "language_info": {
      "name": "python"
    }
  },
  "cells": [
    {
      "cell_type": "markdown",
      "metadata": {
        "id": "view-in-github",
        "colab_type": "text"
      },
      "source": [
        "<a href=\"https://colab.research.google.com/github/Kwangbin/statistic/blob/main/%EA%B0%80%EC%84%A4%EA%B2%80%EC%A0%95.ipynb\" target=\"_parent\"><img src=\"https://colab.research.google.com/assets/colab-badge.svg\" alt=\"Open In Colab\"/></a>"
      ]
    },
    {
      "cell_type": "code",
      "metadata": {
        "colab": {
          "base_uri": "https://localhost:8080/"
        },
        "id": "wKpbQC_kEIWe",
        "outputId": "4f8477a4-c254-44bb-ccd0-e12f3079b325"
      },
      "source": [
        "cd drive/MyDrive/ml/statistic/data/"
      ],
      "execution_count": 1,
      "outputs": [
        {
          "output_type": "stream",
          "name": "stdout",
          "text": [
            "/content/drive/MyDrive/ml/statistic/data\n"
          ]
        }
      ]
    },
    {
      "cell_type": "code",
      "metadata": {
        "colab": {
          "base_uri": "https://localhost:8080/"
        },
        "id": "LdzzHs7FEVx9",
        "outputId": "52898207-46e2-418c-9c0e-7c675a330e45"
      },
      "source": [
        "ls"
      ],
      "execution_count": 2,
      "outputs": [
        {
          "output_type": "stream",
          "name": "stdout",
          "text": [
            "cars.csv          ch11_potato.csv        ch1_sport_test.csv  Untitled.ipynb\n",
            "ch10_access.csv   ch11_training_ind.csv  ch2_scores_em.csv\n",
            "ch10_enquete.csv  ch11_training_rel.csv  ch3_anscombe.npy\n",
            "ch11_ad.csv       ch12_scores_reg.csv    ch4_scores400.csv\n"
          ]
        }
      ]
    },
    {
      "cell_type": "markdown",
      "metadata": {
        "id": "Sq7mmp7pEYUk"
      },
      "source": [
        "감자튀김 정량 130G\n",
        "\n",
        "14개 표본 128.45G\n",
        "\n",
        "우연인가? 아닌가?\n",
        "\n",
        "가설 검증 "
      ]
    },
    {
      "cell_type": "code",
      "metadata": {
        "id": "QnBm8DmxEWUD"
      },
      "source": [
        "import numpy as np\n",
        "import pandas as pd\n",
        "from scipy import  stats"
      ],
      "execution_count": 3,
      "outputs": []
    },
    {
      "cell_type": "code",
      "metadata": {
        "id": "VoHAM65wE1eP"
      },
      "source": [
        "# 소숫점 3자리까지 표현\n",
        "%precision 3\n",
        "np.random.seed(1111)"
      ],
      "execution_count": 4,
      "outputs": []
    },
    {
      "cell_type": "code",
      "metadata": {
        "id": "XO3WdQ1AFNsJ"
      },
      "source": [
        "#감자튀김 자료 불러오기\n",
        "df = pd.read_csv('ch11_potato.csv')"
      ],
      "execution_count": 5,
      "outputs": []
    },
    {
      "cell_type": "code",
      "metadata": {
        "colab": {
          "base_uri": "https://localhost:8080/",
          "height": 480
        },
        "id": "BuWAJClJFZxD",
        "outputId": "ceeb5e4d-20da-45fa-a511-4062db4cf3e1"
      },
      "source": [
        "df"
      ],
      "execution_count": 6,
      "outputs": [
        {
          "output_type": "execute_result",
          "data": {
            "text/html": [
              "<div>\n",
              "<style scoped>\n",
              "    .dataframe tbody tr th:only-of-type {\n",
              "        vertical-align: middle;\n",
              "    }\n",
              "\n",
              "    .dataframe tbody tr th {\n",
              "        vertical-align: top;\n",
              "    }\n",
              "\n",
              "    .dataframe thead th {\n",
              "        text-align: right;\n",
              "    }\n",
              "</style>\n",
              "<table border=\"1\" class=\"dataframe\">\n",
              "  <thead>\n",
              "    <tr style=\"text-align: right;\">\n",
              "      <th></th>\n",
              "      <th>무게</th>\n",
              "    </tr>\n",
              "  </thead>\n",
              "  <tbody>\n",
              "    <tr>\n",
              "      <th>0</th>\n",
              "      <td>122.02</td>\n",
              "    </tr>\n",
              "    <tr>\n",
              "      <th>1</th>\n",
              "      <td>131.73</td>\n",
              "    </tr>\n",
              "    <tr>\n",
              "      <th>2</th>\n",
              "      <td>130.60</td>\n",
              "    </tr>\n",
              "    <tr>\n",
              "      <th>3</th>\n",
              "      <td>131.82</td>\n",
              "    </tr>\n",
              "    <tr>\n",
              "      <th>4</th>\n",
              "      <td>132.05</td>\n",
              "    </tr>\n",
              "    <tr>\n",
              "      <th>5</th>\n",
              "      <td>126.12</td>\n",
              "    </tr>\n",
              "    <tr>\n",
              "      <th>6</th>\n",
              "      <td>124.43</td>\n",
              "    </tr>\n",
              "    <tr>\n",
              "      <th>7</th>\n",
              "      <td>132.89</td>\n",
              "    </tr>\n",
              "    <tr>\n",
              "      <th>8</th>\n",
              "      <td>122.79</td>\n",
              "    </tr>\n",
              "    <tr>\n",
              "      <th>9</th>\n",
              "      <td>129.95</td>\n",
              "    </tr>\n",
              "    <tr>\n",
              "      <th>10</th>\n",
              "      <td>126.14</td>\n",
              "    </tr>\n",
              "    <tr>\n",
              "      <th>11</th>\n",
              "      <td>134.45</td>\n",
              "    </tr>\n",
              "    <tr>\n",
              "      <th>12</th>\n",
              "      <td>127.64</td>\n",
              "    </tr>\n",
              "    <tr>\n",
              "      <th>13</th>\n",
              "      <td>125.68</td>\n",
              "    </tr>\n",
              "  </tbody>\n",
              "</table>\n",
              "</div>"
            ],
            "text/plain": [
              "        무게\n",
              "0   122.02\n",
              "1   131.73\n",
              "2   130.60\n",
              "3   131.82\n",
              "4   132.05\n",
              "5   126.12\n",
              "6   124.43\n",
              "7   132.89\n",
              "8   122.79\n",
              "9   129.95\n",
              "10  126.14\n",
              "11  134.45\n",
              "12  127.64\n",
              "13  125.68"
            ]
          },
          "metadata": {},
          "execution_count": 6
        }
      ]
    },
    {
      "cell_type": "code",
      "metadata": {
        "colab": {
          "base_uri": "https://localhost:8080/",
          "height": 295
        },
        "id": "IvS68uzJFshK",
        "outputId": "09c872f5-f00b-4572-9244-4f2cfda87550"
      },
      "source": [
        "df.describe()"
      ],
      "execution_count": 14,
      "outputs": [
        {
          "output_type": "execute_result",
          "data": {
            "text/html": [
              "<div>\n",
              "<style scoped>\n",
              "    .dataframe tbody tr th:only-of-type {\n",
              "        vertical-align: middle;\n",
              "    }\n",
              "\n",
              "    .dataframe tbody tr th {\n",
              "        vertical-align: top;\n",
              "    }\n",
              "\n",
              "    .dataframe thead th {\n",
              "        text-align: right;\n",
              "    }\n",
              "</style>\n",
              "<table border=\"1\" class=\"dataframe\">\n",
              "  <thead>\n",
              "    <tr style=\"text-align: right;\">\n",
              "      <th></th>\n",
              "      <th>무게</th>\n",
              "    </tr>\n",
              "  </thead>\n",
              "  <tbody>\n",
              "    <tr>\n",
              "      <th>count</th>\n",
              "      <td>14.000000</td>\n",
              "    </tr>\n",
              "    <tr>\n",
              "      <th>mean</th>\n",
              "      <td>128.450714</td>\n",
              "    </tr>\n",
              "    <tr>\n",
              "      <th>std</th>\n",
              "      <td>3.983585</td>\n",
              "    </tr>\n",
              "    <tr>\n",
              "      <th>min</th>\n",
              "      <td>122.020000</td>\n",
              "    </tr>\n",
              "    <tr>\n",
              "      <th>25%</th>\n",
              "      <td>125.790000</td>\n",
              "    </tr>\n",
              "    <tr>\n",
              "      <th>50%</th>\n",
              "      <td>128.795000</td>\n",
              "    </tr>\n",
              "    <tr>\n",
              "      <th>75%</th>\n",
              "      <td>131.797500</td>\n",
              "    </tr>\n",
              "    <tr>\n",
              "      <th>max</th>\n",
              "      <td>134.450000</td>\n",
              "    </tr>\n",
              "  </tbody>\n",
              "</table>\n",
              "</div>"
            ],
            "text/plain": [
              "               무게\n",
              "count   14.000000\n",
              "mean   128.450714\n",
              "std      3.983585\n",
              "min    122.020000\n",
              "25%    125.790000\n",
              "50%    128.795000\n",
              "75%    131.797500\n",
              "max    134.450000"
            ]
          },
          "metadata": {},
          "execution_count": 14
        }
      ]
    },
    {
      "cell_type": "code",
      "metadata": {
        "colab": {
          "base_uri": "https://localhost:8080/"
        },
        "id": "dLQGS0VNFcQi",
        "outputId": "071e5e88-fe7b-4834-bb61-05e401e6ac99"
      },
      "source": [
        "sample = np.array(df['무게'])\n",
        "sample"
      ],
      "execution_count": 7,
      "outputs": [
        {
          "output_type": "execute_result",
          "data": {
            "text/plain": [
              "array([122.02, 131.73, 130.6 , 131.82, 132.05, 126.12, 124.43, 132.89,\n",
              "       122.79, 129.95, 126.14, 134.45, 127.64, 125.68])"
            ]
          },
          "metadata": {},
          "execution_count": 7
        }
      ]
    },
    {
      "cell_type": "code",
      "metadata": {
        "colab": {
          "base_uri": "https://localhost:8080/"
        },
        "id": "vAl_M7H4FnZp",
        "outputId": "46d94f7b-9293-4806-c9aa-0793c4024467"
      },
      "source": [
        "s_mean = np.mean(sample)\n",
        "s_mean"
      ],
      "execution_count": 11,
      "outputs": [
        {
          "output_type": "execute_result",
          "data": {
            "text/plain": [
              "128.451"
            ]
          },
          "metadata": {},
          "execution_count": 11
        }
      ]
    },
    {
      "cell_type": "code",
      "metadata": {
        "colab": {
          "base_uri": "https://localhost:8080/"
        },
        "id": "cJt14PORFvwQ",
        "outputId": "8a2cca4a-6ba9-4fad-ddab-d9da3c08b281"
      },
      "source": [
        "s_var=np.var(sample)\n",
        "s_var"
      ],
      "execution_count": 15,
      "outputs": [
        {
          "output_type": "execute_result",
          "data": {
            "text/plain": [
              "14.735"
            ]
          },
          "metadata": {},
          "execution_count": 15
        }
      ]
    },
    {
      "cell_type": "markdown",
      "metadata": {
        "id": "_enfDWIjIHHz"
      },
      "source": [
        "정규분포를 따른다\n",
        "\n",
        "분산은 9 이다 가정\n"
      ]
    },
    {
      "cell_type": "code",
      "metadata": {
        "colab": {
          "base_uri": "https://localhost:8080/"
        },
        "id": "9t0puGUCHIAl",
        "outputId": "2569808d-09bc-4ce8-8923-2bdf0a85c961"
      },
      "source": [
        "# norm 정규분포  9/4  분산/표분수\n",
        "rv = stats.norm(130, np.sqrt(9/14))\n",
        "rv"
      ],
      "execution_count": 16,
      "outputs": [
        {
          "output_type": "execute_result",
          "data": {
            "text/plain": [
              "<scipy.stats._distn_infrastructure.rv_frozen at 0x7f13096b5a50>"
            ]
          },
          "metadata": {},
          "execution_count": 16
        }
      ]
    },
    {
      "cell_type": "code",
      "metadata": {
        "colab": {
          "base_uri": "https://localhost:8080/"
        },
        "id": "XSSXZZ_LIfDL",
        "outputId": "1b7a23f0-aa78-42d2-f216-7048db3ff589"
      },
      "source": [
        "# 표본 평균이 95%(0.95)아래구간   5% 이하의 확률로 128.681G 이하의 무게가 된다는 것을 알수 있다\n",
        "# 즉, 128.681G  이하로 나올 활률은 5% 이다\n",
        "rv.isf(0.95)"
      ],
      "execution_count": 19,
      "outputs": [
        {
          "output_type": "execute_result",
          "data": {
            "text/plain": [
              "128.681"
            ]
          },
          "metadata": {},
          "execution_count": 19
        }
      ]
    },
    {
      "cell_type": "markdown",
      "metadata": {
        "id": "KoKU8zsHJiWQ"
      },
      "source": [
        "표본 평균  128.451\n",
        "\n",
        "5% 이하의 확률 값 128.681\n",
        "\n",
        "결국 128.681 이하의 값이 측정 되어서 우연이 아니라 의도적으로 양을 적게 해서 판매 하였다고 할수 있다\n",
        "\n",
        "신뢰구간 밖의 값이 측정 되었다\n",
        "\n",
        "##사장님 무게 줄이지 말고 똑바로 파세요\n"
      ]
    },
    {
      "cell_type": "markdown",
      "metadata": {
        "id": "3QNayoG1KSda"
      },
      "source": [
        "귀무가설, 대립가설\n",
        "\n",
        "귀무가설  사장을 130G으로 상품을 판매 한다\n",
        "\n",
        "대립가설 사장은 130G 이하로 물건을 판매 한다\n",
        "\n",
        "95% 신뢰구간으로 128.681 이하면 귀무 가설을 기각 한다"
      ]
    },
    {
      "cell_type": "code",
      "metadata": {
        "id": "e2Gt0fytIhWs"
      },
      "source": [
        ""
      ],
      "execution_count": null,
      "outputs": []
    },
    {
      "cell_type": "markdown",
      "metadata": {
        "id": "XUoSkJ1qLDz5"
      },
      "source": [
        "##P-value \n",
        "P값이 유의수준보다 왼쪽(작다)이냐, 오른쪽(크다)이냐에 따라 귀무가설 채택 ,기각 선택\n",
        "\n",
        "왼쪽 기각, 오른쪽 선택"
      ]
    },
    {
      "cell_type": "code",
      "metadata": {
        "id": "JWr2G8_ELeCi"
      },
      "source": [
        ""
      ],
      "execution_count": null,
      "outputs": []
    },
    {
      "cell_type": "markdown",
      "metadata": {
        "id": "qTygiEegNPpG"
      },
      "source": [
        "##검정통계량 이 임계값보다 작을때 귀무가설 기각"
      ]
    },
    {
      "cell_type": "code",
      "metadata": {
        "colab": {
          "base_uri": "https://localhost:8080/"
        },
        "id": "_qrI_L9QNVQr",
        "outputId": "1c217445-b84f-4668-971a-45d63a5b9dbd"
      },
      "source": [
        "#검정 통계량\n",
        "z=(s_mean-130)/np.sqrt(9/14)\n",
        "z"
      ],
      "execution_count": 21,
      "outputs": [
        {
          "output_type": "execute_result",
          "data": {
            "text/plain": [
              "-1.932"
            ]
          },
          "metadata": {},
          "execution_count": 21
        }
      ]
    },
    {
      "cell_type": "code",
      "metadata": {
        "colab": {
          "base_uri": "https://localhost:8080/"
        },
        "id": "QrZ6tCs-Nfwk",
        "outputId": "66f56c0d-2562-4669-ba51-3174d0a7dac0"
      },
      "source": [
        "#임계값\n",
        "rv=stats.norm()\n",
        "rv.isf(0.95)"
      ],
      "execution_count": 22,
      "outputs": [
        {
          "output_type": "execute_result",
          "data": {
            "text/plain": [
              "-1.645"
            ]
          },
          "metadata": {},
          "execution_count": 22
        }
      ]
    },
    {
      "cell_type": "markdown",
      "metadata": {
        "id": "-suBSe8NN-Kp"
      },
      "source": [
        "검정통계 -1.932 < 임계값 -1.645\n",
        "\n",
        "검정통계량이 임계값보다 작다 \n",
        "\n",
        "즉 귀무가설 기각\n",
        "\n",
        "# 사장님 장사 똑바로 하세요"
      ]
    },
    {
      "cell_type": "code",
      "metadata": {
        "id": "66peRZqcN6ml"
      },
      "source": [
        ""
      ],
      "execution_count": null,
      "outputs": []
    },
    {
      "cell_type": "markdown",
      "metadata": {
        "id": "PglqothdOf0Z"
      },
      "source": [
        "##P값을 이용한 가설 점검\n",
        "\n",
        "유의수준 5% , 즉 0.05 보다 작으면 귀무가설 기각\n"
      ]
    },
    {
      "cell_type": "code",
      "metadata": {
        "colab": {
          "base_uri": "https://localhost:8080/"
        },
        "id": "ullqHd5KOnxe",
        "outputId": "34159121-eab1-42c3-bba3-0168300c0aef"
      },
      "source": [
        "# 검정통계량 Z를 이용해 P값 구하기\n",
        "rv.cdf(z)"
      ],
      "execution_count": 23,
      "outputs": [
        {
          "output_type": "execute_result",
          "data": {
            "text/plain": [
              "0.027"
            ]
          },
          "metadata": {},
          "execution_count": 23
        }
      ]
    },
    {
      "cell_type": "markdown",
      "metadata": {
        "id": "YkQgf8igO3jQ"
      },
      "source": [
        "P 값 0.027 < 유의수준 0.05  \n",
        "\n",
        "P값이 유의수준보다 작아서 귀무가설 기각"
      ]
    },
    {
      "cell_type": "code",
      "metadata": {
        "id": "rnz9iDZOO2YR"
      },
      "source": [
        ""
      ],
      "execution_count": null,
      "outputs": []
    }
  ]
}
{
  "nbformat": 4,
  "nbformat_minor": 0,
  "metadata": {
    "kernelspec": {
      "display_name": "Python 3",
      "language": "python",
      "name": "python3"
    },
    "language_info": {
      "codemirror_mode": {
        "name": "ipython",
        "version": 3
      },
      "file_extension": ".py",
      "mimetype": "text/x-python",
      "name": "python",
      "nbconvert_exporter": "python",
      "pygments_lexer": "ipython3",
      "version": "3.7.4"
    },
    "toc": {
      "nav_menu": {},
      "number_sections": true,
      "sideBar": true,
      "skip_h1_title": false,
      "toc_cell": false,
      "toc_position": {},
      "toc_section_display": "block",
      "toc_window_display": false
    },
    "colab": {
      "name": "chap01.ipynb",
      "provenance": [],
      "include_colab_link": true
    }
  },
  "cells": [
    {
      "cell_type": "markdown",
      "metadata": {
        "id": "view-in-github",
        "colab_type": "text"
      },
      "source": [
        "<a href=\"https://colab.research.google.com/github/Kwangbin/statistic/blob/main/chap01.ipynb\" target=\"_parent\"><img src=\"https://colab.research.google.com/assets/colab-badge.svg\" alt=\"Open In Colab\"/></a>"
      ]
    },
    {
      "cell_type": "markdown",
      "metadata": {
        "id": "Mjnn1dUd5xhc"
      },
      "source": [
        "# 데이터에 관하여"
      ]
    },
    {
      "cell_type": "code",
      "metadata": {
        "colab": {
          "base_uri": "https://localhost:8080/"
        },
        "id": "lb0iVeU750wd",
        "outputId": "1430cc63-9b61-48d8-b098-c732adb92da3"
      },
      "source": [
        "from google.colab import drive\n",
        "drive.mount('/content/drive')"
      ],
      "execution_count": 1,
      "outputs": [
        {
          "output_type": "stream",
          "name": "stdout",
          "text": [
            "Mounted at /content/drive\n"
          ]
        }
      ]
    },
    {
      "cell_type": "code",
      "metadata": {
        "colab": {
          "base_uri": "https://localhost:8080/"
        },
        "id": "7E_lwyY06CXk",
        "outputId": "1874efc4-5b49-4805-db2a-fd10ab0f1640"
      },
      "source": [
        "cd drive/MyDrive/ml/statistic/"
      ],
      "execution_count": 2,
      "outputs": [
        {
          "output_type": "stream",
          "name": "stdout",
          "text": [
            "/content/drive/MyDrive/ml/statistic\n"
          ]
        }
      ]
    },
    {
      "cell_type": "code",
      "metadata": {
        "colab": {
          "base_uri": "https://localhost:8080/"
        },
        "id": "Ps6JG4b_6UNV",
        "outputId": "63db8b84-8752-432b-c5f5-49d82c9d13f1"
      },
      "source": [
        "ls"
      ],
      "execution_count": 6,
      "outputs": [
        {
          "output_type": "stream",
          "name": "stdout",
          "text": [
            "\u001b[0m\u001b[01;34manimation\u001b[0m/    chap04.ipynb  chap08.ipynb  chap12.ipynb  python.ipynb\n",
            "chap01.ipynb  chap05.ipynb  chap09.ipynb  \u001b[01;34mdata\u001b[0m/         test.npy\n",
            "chap02.ipynb  chap06.ipynb  chap10.ipynb  numpy.ipynb\n",
            "chap03.ipynb  chap07.ipynb  chap11.ipynb  pandas.ipynb\n"
          ]
        }
      ]
    },
    {
      "cell_type": "code",
      "metadata": {
        "ExecuteTime": {
          "end_time": "2018-08-03T08:26:15.690793Z",
          "start_time": "2018-08-03T08:26:15.507201Z"
        },
        "id": "tGvSU0uU5xhk"
      },
      "source": [
        "# Pandas를 pd라는 이름으로 임포트한다\n",
        "import pandas as pd"
      ],
      "execution_count": 3,
      "outputs": []
    },
    {
      "cell_type": "code",
      "metadata": {
        "ExecuteTime": {
          "end_time": "2018-08-03T08:26:15.708374Z",
          "start_time": "2018-08-03T08:26:15.691921Z"
        },
        "colab": {
          "base_uri": "https://localhost:8080/",
          "height": 388
        },
        "id": "FfAkRR1_5xho",
        "outputId": "ceb929d0-1765-4ef7-c05e-c1b51606f113"
      },
      "source": [
        "# 학생번호를 인덱스로 csv 파일을 읽어들여, 변수 df에 저장\n",
        "df = pd.read_csv('data/ch1_sport_test.csv',\n",
        "                 index_col='학생번호')\n",
        "# 변수 df를 표시\n",
        "df"
      ],
      "execution_count": 11,
      "outputs": [
        {
          "output_type": "execute_result",
          "data": {
            "text/html": [
              "<div>\n",
              "<style scoped>\n",
              "    .dataframe tbody tr th:only-of-type {\n",
              "        vertical-align: middle;\n",
              "    }\n",
              "\n",
              "    .dataframe tbody tr th {\n",
              "        vertical-align: top;\n",
              "    }\n",
              "\n",
              "    .dataframe thead th {\n",
              "        text-align: right;\n",
              "    }\n",
              "</style>\n",
              "<table border=\"1\" class=\"dataframe\">\n",
              "  <thead>\n",
              "    <tr style=\"text-align: right;\">\n",
              "      <th></th>\n",
              "      <th>학년</th>\n",
              "      <th>악력</th>\n",
              "      <th>윗몸일으키기</th>\n",
              "      <th>점수</th>\n",
              "      <th>순위</th>\n",
              "    </tr>\n",
              "    <tr>\n",
              "      <th>학생번호</th>\n",
              "      <th></th>\n",
              "      <th></th>\n",
              "      <th></th>\n",
              "      <th></th>\n",
              "      <th></th>\n",
              "    </tr>\n",
              "  </thead>\n",
              "  <tbody>\n",
              "    <tr>\n",
              "      <th>1</th>\n",
              "      <td>1</td>\n",
              "      <td>40.2</td>\n",
              "      <td>34</td>\n",
              "      <td>15</td>\n",
              "      <td>4</td>\n",
              "    </tr>\n",
              "    <tr>\n",
              "      <th>2</th>\n",
              "      <td>1</td>\n",
              "      <td>34.2</td>\n",
              "      <td>14</td>\n",
              "      <td>7</td>\n",
              "      <td>10</td>\n",
              "    </tr>\n",
              "    <tr>\n",
              "      <th>3</th>\n",
              "      <td>1</td>\n",
              "      <td>28.8</td>\n",
              "      <td>27</td>\n",
              "      <td>11</td>\n",
              "      <td>7</td>\n",
              "    </tr>\n",
              "    <tr>\n",
              "      <th>4</th>\n",
              "      <td>2</td>\n",
              "      <td>39.0</td>\n",
              "      <td>27</td>\n",
              "      <td>14</td>\n",
              "      <td>5</td>\n",
              "    </tr>\n",
              "    <tr>\n",
              "      <th>5</th>\n",
              "      <td>2</td>\n",
              "      <td>50.9</td>\n",
              "      <td>32</td>\n",
              "      <td>17</td>\n",
              "      <td>2</td>\n",
              "    </tr>\n",
              "    <tr>\n",
              "      <th>6</th>\n",
              "      <td>2</td>\n",
              "      <td>36.5</td>\n",
              "      <td>20</td>\n",
              "      <td>9</td>\n",
              "      <td>9</td>\n",
              "    </tr>\n",
              "    <tr>\n",
              "      <th>7</th>\n",
              "      <td>3</td>\n",
              "      <td>36.6</td>\n",
              "      <td>31</td>\n",
              "      <td>13</td>\n",
              "      <td>6</td>\n",
              "    </tr>\n",
              "    <tr>\n",
              "      <th>8</th>\n",
              "      <td>3</td>\n",
              "      <td>49.2</td>\n",
              "      <td>37</td>\n",
              "      <td>18</td>\n",
              "      <td>1</td>\n",
              "    </tr>\n",
              "    <tr>\n",
              "      <th>9</th>\n",
              "      <td>3</td>\n",
              "      <td>26.0</td>\n",
              "      <td>28</td>\n",
              "      <td>10</td>\n",
              "      <td>8</td>\n",
              "    </tr>\n",
              "    <tr>\n",
              "      <th>10</th>\n",
              "      <td>3</td>\n",
              "      <td>47.4</td>\n",
              "      <td>32</td>\n",
              "      <td>16</td>\n",
              "      <td>3</td>\n",
              "    </tr>\n",
              "  </tbody>\n",
              "</table>\n",
              "</div>"
            ],
            "text/plain": [
              "      학년    악력  윗몸일으키기  점수  순위\n",
              "학생번호                          \n",
              "1      1  40.2      34  15   4\n",
              "2      1  34.2      14   7  10\n",
              "3      1  28.8      27  11   7\n",
              "4      2  39.0      27  14   5\n",
              "5      2  50.9      32  17   2\n",
              "6      2  36.5      20   9   9\n",
              "7      3  36.6      31  13   6\n",
              "8      3  49.2      37  18   1\n",
              "9      3  26.0      28  10   8\n",
              "10     3  47.4      32  16   3"
            ]
          },
          "metadata": {},
          "execution_count": 11
        }
      ]
    },
    {
      "cell_type": "code",
      "metadata": {
        "ExecuteTime": {
          "end_time": "2018-08-03T08:26:15.712890Z",
          "start_time": "2018-08-03T08:26:15.709417Z"
        },
        "colab": {
          "base_uri": "https://localhost:8080/"
        },
        "id": "lfqN6TK65xhr",
        "outputId": "91a0f3b1-6923-4297-ffc0-deef5a349282"
      },
      "source": [
        "#DataFrame에서 악력에 대한 열을 추출하면 1차원 데이터 구조인 Series 반환\n",
        "df['악력']"
      ],
      "execution_count": 13,
      "outputs": [
        {
          "output_type": "execute_result",
          "data": {
            "text/plain": [
              "학생번호\n",
              "1     40.2\n",
              "2     34.2\n",
              "3     28.8\n",
              "4     39.0\n",
              "5     50.9\n",
              "6     36.5\n",
              "7     36.6\n",
              "8     49.2\n",
              "9     26.0\n",
              "10    47.4\n",
              "Name: 악력, dtype: float64"
            ]
          },
          "metadata": {},
          "execution_count": 13
        }
      ]
    },
    {
      "cell_type": "code",
      "metadata": {
        "ExecuteTime": {
          "end_time": "2018-08-03T08:26:15.716635Z",
          "start_time": "2018-08-03T08:26:15.714019Z"
        },
        "id": "9xWSeXuv5xhs",
        "outputId": "9ca81d36-ab14-4289-c9a6-73d33ee0bfdd"
      },
      "source": [
        "# 데이터 10개, 변수(컬럼)는 5개\n",
        "df.shape"
      ],
      "execution_count": null,
      "outputs": [
        {
          "data": {
            "text/plain": [
              "(10, 5)"
            ]
          },
          "execution_count": 5,
          "metadata": {},
          "output_type": "execute_result"
        }
      ]
    },
    {
      "cell_type": "markdown",
      "metadata": {
        "id": "lYyoVscR7SVI"
      },
      "source": [
        "질적변수(정성평가): 매우좋은, 좋은  나쁨 매우 나쁨  // A형, B형  AB형\n",
        "\n",
        "양적변수(정량평가): 양을표현\n"
      ]
    },
    {
      "cell_type": "markdown",
      "metadata": {
        "id": "GHULlEYn7wGK"
      },
      "source": [
        "척도: \n",
        "\n",
        "![척도.png](data:image/png;base64,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)"
      ]
    },
    {
      "cell_type": "markdown",
      "metadata": {
        "id": "ku3hYN0f8SRu"
      },
      "source": [
        "이산형 변수\n",
        "\n",
        "하나의 값을 취하는 변수\n",
        "\n",
        "서로 인접한 숫자 사이에 값이 존재 하지 않음\n",
        "\n",
        "주사위의 눈, 결석 횟수, 결석 학생수\n",
        "\n",
        "\n",
        "연속형 변수\n",
        "\n",
        "연속적인 값을 취할수 있는 변수\n",
        "\n",
        "어떤 두 숫자 사이에도 반드시 숫자가 존재\n",
        "\n",
        "길이 문게 시간\n",
        "\n"
      ]
    },
    {
      "cell_type": "code",
      "metadata": {
        "id": "iZU5Krj47OaE"
      },
      "source": [
        ""
      ],
      "execution_count": null,
      "outputs": []
    },
    {
      "cell_type": "code",
      "metadata": {
        "id": "yyBIbHDO5xhu"
      },
      "source": [
        ""
      ],
      "execution_count": null,
      "outputs": []
    }
  ]
}
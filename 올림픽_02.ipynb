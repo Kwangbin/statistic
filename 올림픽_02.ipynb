{
  "nbformat": 4,
  "nbformat_minor": 0,
  "metadata": {
    "colab": {
      "name": "올림픽_02.ipynb",
      "provenance": [],
      "authorship_tag": "ABX9TyN/SgL+KMOpGXEqTPNslPLs",
      "include_colab_link": true
    },
    "kernelspec": {
      "name": "python3",
      "display_name": "Python 3"
    },
    "language_info": {
      "name": "python"
    }
  },
  "cells": [
    {
      "cell_type": "markdown",
      "metadata": {
        "id": "view-in-github",
        "colab_type": "text"
      },
      "source": [
        "<a href=\"https://colab.research.google.com/github/Kwangbin/statistic/blob/main/%EC%98%AC%EB%A6%BC%ED%94%BD_02.ipynb\" target=\"_parent\"><img src=\"https://colab.research.google.com/assets/colab-badge.svg\" alt=\"Open In Colab\"/></a>"
      ]
    },
    {
      "cell_type": "code",
      "execution_count": 6,
      "metadata": {
        "id": "S_jaJpQphf6-"
      },
      "outputs": [],
      "source": [
        "# 필요한 라이브러리를 불러옵니다.\n",
        "\n",
        "import pandas as pd\n",
        "import numpy as np\n",
        "import time"
      ]
    },
    {
      "cell_type": "code",
      "source": [
        "# 올림픽 메달 주소\n",
        "\n",
        "url = \"https://gsic.sports.or.kr/com/cop/game/game_info.do?partCode=1&gameCode=1\""
      ],
      "metadata": {
        "id": "p_LOIbOHhm5g"
      },
      "execution_count": 2,
      "outputs": []
    },
    {
      "cell_type": "code",
      "source": [
        "# 일단 1페이지만 불러와 보자\n",
        "# 판다스의 테이블만 불러 들이는 기능 사용\n",
        "\n",
        "table=pd.read_html(url)"
      ],
      "metadata": {
        "id": "z4IcBTnJhusR"
      },
      "execution_count": 3,
      "outputs": []
    },
    {
      "cell_type": "code",
      "source": [
        "table"
      ],
      "metadata": {
        "colab": {
          "base_uri": "https://localhost:8080/"
        },
        "id": "bbaS5l67h9NY",
        "outputId": "8f29b160-9e63-499b-f32c-75d73c7a87ee"
      },
      "execution_count": 4,
      "outputs": [
        {
          "output_type": "execute_result",
          "data": {
            "text/plain": [
              "[    순위     국가  금메달  은메달  동메달  합계\n",
              " 0    1     미국   11    7    2  20\n",
              " 1    2    그리스   10   17   19  46\n",
              " 2    3     독일    6    5    2  13\n",
              " 3    4    프랑스    5    4    2  11\n",
              " 4    5     영국    2    3    2   7\n",
              " 5    6    헝가리    2    1    3   6\n",
              " 6    7  오스트리아    2    1    2   5\n",
              " 7    8     호주    2    0    0   2\n",
              " 8    9    덴마크    1    2    3   6\n",
              " 9   10    스위스    1    2    0   3\n",
              " 10  11  다국적연합    1    1    1   3]"
            ]
          },
          "metadata": {},
          "execution_count": 4
        }
      ]
    },
    {
      "cell_type": "code",
      "source": [
        "# 사이트를 확인해 보니\n",
        "# 하계 올림픽 27회 까지는 반복문으로 크롤링이 가능 한데\n",
        "# 그 이후는 페이지가 엉망이다  \n",
        "# ㅠㅠㅠ\n",
        "# 일단 27회 시드니까지만 불러온다\n",
        "# 그 이후는 수동으로 해야 할듯\n",
        "\n",
        "    \n"
      ],
      "metadata": {
        "id": "Tp238Dlbh_nX"
      },
      "execution_count": 5,
      "outputs": []
    },
    {
      "cell_type": "code",
      "source": [
        ""
      ],
      "metadata": {
        "id": "t3opp3p7jFWx"
      },
      "execution_count": null,
      "outputs": []
    },
    {
      "cell_type": "code",
      "source": [
        "# 주소 테스트\n",
        "for i in range(1 , 28):\n",
        "    url_1 = \"https://gsic.sports.or.kr/com/cop/game/game_info.do?partCode=1&gameCode=\"+str(i)\n",
        "    print(url_1)\n",
        "    "
      ],
      "metadata": {
        "colab": {
          "base_uri": "https://localhost:8080/"
        },
        "id": "4ku1WIq4iaoD",
        "outputId": "bd95924b-0e0e-49c4-85cb-fd5019c2c851"
      },
      "execution_count": 8,
      "outputs": [
        {
          "output_type": "stream",
          "name": "stdout",
          "text": [
            "https://gsic.sports.or.kr/com/cop/game/game_info.do?partCode=1&gameCode=1\n",
            "https://gsic.sports.or.kr/com/cop/game/game_info.do?partCode=1&gameCode=2\n",
            "https://gsic.sports.or.kr/com/cop/game/game_info.do?partCode=1&gameCode=3\n",
            "https://gsic.sports.or.kr/com/cop/game/game_info.do?partCode=1&gameCode=4\n",
            "https://gsic.sports.or.kr/com/cop/game/game_info.do?partCode=1&gameCode=5\n",
            "https://gsic.sports.or.kr/com/cop/game/game_info.do?partCode=1&gameCode=6\n",
            "https://gsic.sports.or.kr/com/cop/game/game_info.do?partCode=1&gameCode=7\n",
            "https://gsic.sports.or.kr/com/cop/game/game_info.do?partCode=1&gameCode=8\n",
            "https://gsic.sports.or.kr/com/cop/game/game_info.do?partCode=1&gameCode=9\n",
            "https://gsic.sports.or.kr/com/cop/game/game_info.do?partCode=1&gameCode=10\n",
            "https://gsic.sports.or.kr/com/cop/game/game_info.do?partCode=1&gameCode=11\n",
            "https://gsic.sports.or.kr/com/cop/game/game_info.do?partCode=1&gameCode=12\n",
            "https://gsic.sports.or.kr/com/cop/game/game_info.do?partCode=1&gameCode=13\n",
            "https://gsic.sports.or.kr/com/cop/game/game_info.do?partCode=1&gameCode=14\n",
            "https://gsic.sports.or.kr/com/cop/game/game_info.do?partCode=1&gameCode=15\n",
            "https://gsic.sports.or.kr/com/cop/game/game_info.do?partCode=1&gameCode=16\n",
            "https://gsic.sports.or.kr/com/cop/game/game_info.do?partCode=1&gameCode=17\n",
            "https://gsic.sports.or.kr/com/cop/game/game_info.do?partCode=1&gameCode=18\n",
            "https://gsic.sports.or.kr/com/cop/game/game_info.do?partCode=1&gameCode=19\n",
            "https://gsic.sports.or.kr/com/cop/game/game_info.do?partCode=1&gameCode=20\n",
            "https://gsic.sports.or.kr/com/cop/game/game_info.do?partCode=1&gameCode=21\n",
            "https://gsic.sports.or.kr/com/cop/game/game_info.do?partCode=1&gameCode=22\n",
            "https://gsic.sports.or.kr/com/cop/game/game_info.do?partCode=1&gameCode=23\n",
            "https://gsic.sports.or.kr/com/cop/game/game_info.do?partCode=1&gameCode=24\n",
            "https://gsic.sports.or.kr/com/cop/game/game_info.do?partCode=1&gameCode=25\n",
            "https://gsic.sports.or.kr/com/cop/game/game_info.do?partCode=1&gameCode=26\n",
            "https://gsic.sports.or.kr/com/cop/game/game_info.do?partCode=1&gameCode=27\n"
          ]
        }
      ]
    },
    {
      "cell_type": "code",
      "source": [
        "# 주소 테스트\n",
        "for i in range(1 , 6):\n",
        "    url_1 = \"https://gsic.sports.or.kr/com/cop/game/game_info.do?partCode=1&gameCode=\"+str(i)\n",
        "    #변수를 생성해 대회별로 메달수 가져오기\n",
        "    globals()['var_'+str(i)]  = pd.read_html(url_1)\n",
        "    #혹시 서버에서 맊을까봐 sleep 설정\n",
        "    time.sleep(3)\n"
      ],
      "metadata": {
        "id": "n7_xX3oJjili"
      },
      "execution_count": 11,
      "outputs": []
    },
    {
      "cell_type": "code",
      "source": [
        "# 세계 대전으로 6, 12,13회 중단\n",
        "# 주소 테스트\n",
        "for i in range(14 , 28):\n",
        "    url_1 = \"https://gsic.sports.or.kr/com/cop/game/game_info.do?partCode=1&gameCode=\"+str(i)\n",
        "    #변수를 생성해 대회별로 메달수 가져오기\n",
        "    globals()['var_'+str(i)]  = pd.read_html(url_1)\n",
        "    #혹시 서버에서 맊을까봐 sleep 설정\n",
        "    time.sleep(3)"
      ],
      "metadata": {
        "id": "NA3qHmAYkr75"
      },
      "execution_count": 14,
      "outputs": []
    },
    {
      "cell_type": "code",
      "source": [
        "# 세계 대전으로 6, 12,13회 중단\n",
        "# 주소 테스트\n",
        "for i in range(7 , 12):\n",
        "    url_1 = \"https://gsic.sports.or.kr/com/cop/game/game_info.do?partCode=1&gameCode=\"+str(i)\n",
        "    #변수를 생성해 대회별로 메달수 가져오기\n",
        "    globals()['var_'+str(i)]  = pd.read_html(url_1)\n",
        "    #혹시 서버에서 맊을까봐 sleep 설정\n",
        "    time.sleep(3)"
      ],
      "metadata": {
        "id": "o3WRM0u0lpix"
      },
      "execution_count": null,
      "outputs": []
    },
    {
      "cell_type": "code",
      "source": [
        "#28회 부터는 수동으로 지정 해야 함\n",
        "url_1 = \"https://gsic.sports.or.kr/com/cop/game/game_info.do?partCode=1&gameCode=116\"\n",
        "var_28=pd.read_html(url_1)"
      ],
      "metadata": {
        "id": "9mZUsmEjmV7V"
      },
      "execution_count": 15,
      "outputs": []
    },
    {
      "cell_type": "code",
      "source": [
        "url_1 = \"https://gsic.sports.or.kr/com/cop/game/game_info.do?partCode=1&gameCode=125\"\n",
        "var_29=pd.read_html(url_1)"
      ],
      "metadata": {
        "id": "BKUbfi2mmoLL"
      },
      "execution_count": 16,
      "outputs": []
    },
    {
      "cell_type": "code",
      "source": [
        "url_1 = \"https://gsic.sports.or.kr/com/cop/game/game_info.do?partCode=1&gameCode=136\"\n",
        "var_30=pd.read_html(url_1)"
      ],
      "metadata": {
        "id": "YkOKsMsPm1dK"
      },
      "execution_count": 17,
      "outputs": []
    },
    {
      "cell_type": "code",
      "source": [
        "url_1 = \"https://gsic.sports.or.kr/com/cop/game/game_info.do?partCode=1&gameCode=145\"\n",
        "var_31=pd.read_html(url_1)"
      ],
      "metadata": {
        "id": "O3aN6VnVm8Ky"
      },
      "execution_count": 18,
      "outputs": []
    },
    {
      "cell_type": "code",
      "source": [
        "url_1 = \"https://gsic.sports.or.kr/com/cop/game/game_info.do?partCode=1&gameCode=159\"\n",
        "var_32=pd.read_html(url_1)"
      ],
      "metadata": {
        "id": "SkBTpl6DnBqK"
      },
      "execution_count": 19,
      "outputs": []
    },
    {
      "cell_type": "code",
      "source": [
        "var_32"
      ],
      "metadata": {
        "colab": {
          "base_uri": "https://localhost:8080/"
        },
        "id": "rYIg6T8AnHVr",
        "outputId": "f0dee0a4-02a1-48c9-c199-536d87f94fdd"
      },
      "execution_count": 20,
      "outputs": [
        {
          "output_type": "execute_result",
          "data": {
            "text/plain": [
              "[    순위         국가  금메달  은메달  동메달   합계\n",
              " 0    1         미국   39   41   33  113\n",
              " 1    2         중국   38   32   18   88\n",
              " 2    3         일본   27   14   17   58\n",
              " 3    4         영국   22   21   22   65\n",
              " 4    5  러시아올림픽위원회   20   28   23   71\n",
              " ..  ..        ...  ...  ...  ...  ...\n",
              " 88  86       그레나다    0    0    1    1\n",
              " 89  86     코트디부아르    0    0    1    1\n",
              " 90  86       쿠웨이트    0    0    1    1\n",
              " 91  86        몰도바    0    0    1    1\n",
              " 92  86        시리아    0    0    1    1\n",
              " \n",
              " [93 rows x 6 columns]]"
            ]
          },
          "metadata": {},
          "execution_count": 20
        }
      ]
    },
    {
      "cell_type": "code",
      "source": [
        "# 동계 올림픽\n",
        "j=1\n",
        "for i in range(28 , 46):\n",
        "    url_1 = \"https://gsic.sports.or.kr/com/cop/game/game_info.do?partCode=1&gameCode=\"+str(i)\n",
        "    #변수를 생성해 대회별로 메달수 가져오기\n",
        "    globals()['win_'+str(j)]  = pd.read_html(url_1)\n",
        "    j=j+1\n",
        "    #혹시 서버에서 맊을까봐 sleep 설정\n",
        "    time.sleep(3)"
      ],
      "metadata": {
        "id": "njRoYLB8nKGD"
      },
      "execution_count": 27,
      "outputs": []
    },
    {
      "cell_type": "code",
      "source": [
        "win_18"
      ],
      "metadata": {
        "colab": {
          "base_uri": "https://localhost:8080/"
        },
        "id": "cVLes4RuoOjz",
        "outputId": "d4867901-6e0a-460a-97e5-f6068fb867a0"
      },
      "execution_count": 28,
      "outputs": [
        {
          "output_type": "execute_result",
          "data": {
            "text/plain": [
              "[    순위     국가  금메달  은메달  동메달  합계\n",
              " 0    1     독일   12    9    8  29\n",
              " 1    2   노르웨이   10   10    5  25\n",
              " 2    3    러시아    9    6    3  18\n",
              " 3    4    캐나다    6    5    4  15\n",
              " 4    5     미국    6    3    4  13\n",
              " 5    6   네덜란드    5    4    2  11\n",
              " 6    7     일본    5    1    4  10\n",
              " 7    8  오스트리아    3    5    9  17\n",
              " 8    9   대한민국    3    1    2   6\n",
              " 9   10   이탈리아    2    6    2  10\n",
              " 10  11    핀란드    2    4    6  12\n",
              " 11  12    스위스    2    2    3   7\n",
              " 12  13    프랑스    2    1    5   8\n",
              " 13  14     체코    1    1    1   3\n",
              " 14  15   불가리아    1    0    0   1\n",
              " 15  16     중국    0    6    2   8\n",
              " 16  17    스웨덴    0    2    1   3\n",
              " 17  18    덴마크    0    1    0   1\n",
              " 18  18  우크라이나    0    1    0   1\n",
              " 19  20   벨라루스    0    0    2   2\n",
              " 20  20  카자흐스탄    0    0    2   2\n",
              " 21  22     호주    0    0    1   1\n",
              " 22  22    벨기에    0    0    1   1\n",
              " 23  22     영국    0    0    1   1]"
            ]
          },
          "metadata": {},
          "execution_count": 28
        }
      ]
    },
    {
      "cell_type": "code",
      "source": [
        "url_1 = \"https://gsic.sports.or.kr/com/cop/game/game_info.do?partCode=1&gameCode=107\"\n",
        "win_19=pd.read_html(url_1)"
      ],
      "metadata": {
        "id": "kGGfwAtnoqPT"
      },
      "execution_count": 29,
      "outputs": []
    },
    {
      "cell_type": "code",
      "source": [
        "url_1 = \"https://gsic.sports.or.kr/com/cop/game/game_info.do?partCode=1&gameCode=120\"\n",
        "win_20=pd.read_html(url_1)"
      ],
      "metadata": {
        "id": "y4sUSGnlq9_b"
      },
      "execution_count": 30,
      "outputs": []
    },
    {
      "cell_type": "code",
      "source": [
        "url_1 = \"https://gsic.sports.or.kr/com/cop/game/game_info.do?partCode=1&gameCode=129\"\n",
        "win_21=pd.read_html(url_1)"
      ],
      "metadata": {
        "id": "ZKNwYnR5rGE8"
      },
      "execution_count": 31,
      "outputs": []
    },
    {
      "cell_type": "code",
      "source": [
        "url_1 = \"https://gsic.sports.or.kr/com/cop/game/game_info.do?partCode=1&gameCode=140\"\n",
        "win_22=pd.read_html(url_1)"
      ],
      "metadata": {
        "id": "biv4glstrKkc"
      },
      "execution_count": 32,
      "outputs": []
    },
    {
      "cell_type": "code",
      "source": [
        "url_1 = \"https://gsic.sports.or.kr/com/cop/game/game_info.do?partCode=1&gameCode=153\"\n",
        "win_23=pd.read_html(url_1)"
      ],
      "metadata": {
        "id": "SP-fEHXdrdb9"
      },
      "execution_count": 33,
      "outputs": []
    },
    {
      "cell_type": "code",
      "source": [
        "win_19"
      ],
      "metadata": {
        "colab": {
          "base_uri": "https://localhost:8080/"
        },
        "id": "JbCo3HsqrnVF",
        "outputId": "e11a2630-4b30-4138-8f08-38ab4b6759cb"
      },
      "execution_count": 35,
      "outputs": [
        {
          "output_type": "execute_result",
          "data": {
            "text/plain": [
              "[    순위     국가  금메달  은메달  동메달  합계\n",
              " 0    1   노르웨이   13    5    7  25\n",
              " 1    2     독일   12   16    8  36\n",
              " 2    3     미국   10   13   11  34\n",
              " 3    4    캐나다    7    3    7  17\n",
              " 4    5    러시아    5    4    4  13\n",
              " 5    6    프랑스    4    5    2  11\n",
              " 6    7   이탈리아    4    4    5  13\n",
              " 7    8    핀란드    4    2    1   7\n",
              " 8    9   네덜란드    3    5    0   8\n",
              " 9   10  오스트리아    3    4   10  17\n",
              " 10  11    스위스    3    2    6  11\n",
              " 11  12  크로아티아    3    1    0   4\n",
              " 12  13     중국    2    2    4   8\n",
              " 13  14   대한민국    2    2    0   4\n",
              " 14  15     호주    2    0    0   2\n",
              " 15  16     체코    1    2    0   3\n",
              " 16  17  에스토니아    1    1    1   3\n",
              " 17  18     영국    1    0    1   2\n",
              " 18  19    스웨덴    0    2    5   7\n",
              " 19  20   불가리아    0    1    2   3\n",
              " 20  21     일본    0    1    1   2\n",
              " 21  21    폴란드    0    1    1   2\n",
              " 22  23   벨라루스    0    0    1   1\n",
              " 23  23  슬로베니아    0    0    1   1]"
            ]
          },
          "metadata": {},
          "execution_count": 35
        }
      ]
    },
    {
      "cell_type": "code",
      "source": [
        "win_20"
      ],
      "metadata": {
        "colab": {
          "base_uri": "https://localhost:8080/"
        },
        "id": "f_HpzsNvsboM",
        "outputId": "1cf479b4-a66c-4506-a653-c04be8d76fb8"
      },
      "execution_count": 36,
      "outputs": [
        {
          "output_type": "execute_result",
          "data": {
            "text/plain": [
              "[    순위         국가  금메달  은메달  동메달  합계\n",
              " 0    1         독일   11   12    6  29\n",
              " 1    2         미국    9    9    7  25\n",
              " 2    3      오스트리아    9    7    7  23\n",
              " 3    4        러시아    8    6    8  22\n",
              " 4    5        캐나다    7   10    7  24\n",
              " 5    6        스웨덴    7    2    5  14\n",
              " 6    7       대한민국    6    3    2  11\n",
              " 7    8        스위스    5    4    5  14\n",
              " 8    9       이탈리아    5    0    6  11\n",
              " 9   10        프랑스    3    2    4   9\n",
              " 10  10       네덜란드    3    2    4   9\n",
              " 11  12      에스토니아    3    0    0   3\n",
              " 12  13       노르웨이    2    8    9  19\n",
              " 13  14         중국    2    4    5  11\n",
              " 14  15         체코    1    2    1   4\n",
              " 15  16      크로아티아    1    2    0   3\n",
              " 16  17         호주    1    0    1   2\n",
              " 17  18         일본    1    0    0   1\n",
              " 18  19        핀란드    0    6    3   9\n",
              " 19  20        폴란드    0    1    1   2\n",
              " 20  21       벨라루스    0    1    0   1\n",
              " 21  21       불가리아    0    1    0   1\n",
              " 22  21  슬로바키아 공화국    0    1    0   1\n",
              " 23  21         영국    0    1    0   1\n",
              " 24  25      우크라이나    0    0    2   2\n",
              " 25  26       라트비아    0    0    1   1]"
            ]
          },
          "metadata": {},
          "execution_count": 36
        }
      ]
    },
    {
      "cell_type": "code",
      "source": [
        "win_21"
      ],
      "metadata": {
        "colab": {
          "base_uri": "https://localhost:8080/"
        },
        "id": "053K7H3YshAl",
        "outputId": "95883dc2-0350-4fb4-fb2a-7c61e7cb4f7a"
      },
      "execution_count": 37,
      "outputs": [
        {
          "output_type": "execute_result",
          "data": {
            "text/plain": [
              "[    순위         국가  금메달  은메달  동메달  합계\n",
              " 0    1        캐나다   14    7    5  26\n",
              " 1    2         독일   10   13    7  30\n",
              " 2    3         미국    9   15   13  37\n",
              " 3    4       노르웨이    9    8    6  23\n",
              " 4    5       대한민국    6    6    2  14\n",
              " 5    6        스위스    6    0    3   9\n",
              " 6    7         중국    5    2    4  11\n",
              " 7    7        스웨덴    5    2    4  11\n",
              " 8    9      오스트리아    4    6    6  16\n",
              " 9   10       네덜란드    4    1    3   8\n",
              " 10  11        러시아    3    5    7  15\n",
              " 11  12        프랑스    2    3    6  11\n",
              " 12  13         호주    2    1    0   3\n",
              " 13  14         체코    2    0    4   6\n",
              " 14  15        폴란드    1    3    2   6\n",
              " 15  16       이탈리아    1    1    3   5\n",
              " 16  17       벨라루스    1    1    1   3\n",
              " 17  17  슬로바키아 공화국    1    1    1   3\n",
              " 18  19         영국    1    0    0   1\n",
              " 19  20         일본    0    3    2   5\n",
              " 20  21      크로아티아    0    2    1   3\n",
              " 21  21      슬로베니아    0    2    1   3\n",
              " 22  23       라트비아    0    2    0   2\n",
              " 23  24        핀란드    0    1    4   5\n",
              " 24  25      에스토니아    0    1    0   1\n",
              " 25  25      카자흐스탄    0    1    0   1]"
            ]
          },
          "metadata": {},
          "execution_count": 37
        }
      ]
    },
    {
      "cell_type": "code",
      "source": [
        "win_22"
      ],
      "metadata": {
        "colab": {
          "base_uri": "https://localhost:8080/"
        },
        "id": "xYZ-3cUBsi19",
        "outputId": "53dd40a4-49f2-4825-e480-a596f602e7f6"
      },
      "execution_count": 38,
      "outputs": [
        {
          "output_type": "execute_result",
          "data": {
            "text/plain": [
              "[    순위         국가  금메달  은메달  동메달  합계\n",
              " 0    1        러시아   11    9    9  29\n",
              " 1    2       노르웨이   11    5   10  26\n",
              " 2    3        캐나다   10   10    4  24\n",
              " 3    4         미국    9    7   12  28\n",
              " 4    5       네덜란드    8    7    9  24\n",
              " 5    6         독일    8    6    5  19\n",
              " 6    7        스위스    6    3    2  11\n",
              " 7    8       벨라루스    5    0    1   6\n",
              " 8    9      오스트리아    4    8    5  17\n",
              " 9   10        프랑스    4    4    7  15\n",
              " 10  11        폴란드    4    1    1   6\n",
              " 11  12         중국    3    4    2   9\n",
              " 12  13       대한민국    3    3    2   8\n",
              " 13  14        스웨덴    2    7    6  15\n",
              " 14  15         체코    2    4    2   8\n",
              " 15  16      슬로베니아    2    2    4   8\n",
              " 16  17         일본    1    4    3   8\n",
              " 17  18        핀란드    1    3    1   5\n",
              " 18  19         영국    1    1    2   4\n",
              " 19  20      우크라이나    1    0    1   2\n",
              " 20  21  슬로바키아 공화국    1    0    0   1\n",
              " 21  22       이탈리아    0    2    6   8\n",
              " 22  23       라트비아    0    2    2   4\n",
              " 23  24         호주    0    2    1   3\n",
              " 24  25      크로아티아    0    1    0   1\n",
              " 25  26      카자흐스탄    0    0    1   1]"
            ]
          },
          "metadata": {},
          "execution_count": 38
        }
      ]
    },
    {
      "cell_type": "code",
      "source": [
        "win_23"
      ],
      "metadata": {
        "colab": {
          "base_uri": "https://localhost:8080/"
        },
        "id": "1FJNVfovslC8",
        "outputId": "0aba9882-f758-4fdb-d86a-6bce2f830c2e"
      },
      "execution_count": 39,
      "outputs": [
        {
          "output_type": "execute_result",
          "data": {
            "text/plain": [
              "[    순위         국가  금메달  은메달  동메달  합계\n",
              " 0    1       노르웨이   14   14   11  39\n",
              " 1    2         독일   14   10    7  31\n",
              " 2    3        캐나다   11    8   10  29\n",
              " 3    4         미국    9    8    6  23\n",
              " 4    5       네덜란드    8    6    6  20\n",
              " 5    6        스웨덴    7    6    1  14\n",
              " 6    7       대한민국    5    8    4  17\n",
              " 7    8        스위스    5    6    4  15\n",
              " 8    9        프랑스    5    4    6  15\n",
              " 9   10      오스트리아    5    3    6  14\n",
              " 10  11         일본    4    5    4  13\n",
              " 11  12       이탈리아    3    2    5  10\n",
              " 12  13        러시아    2    6    9  17\n",
              " 13  14         체코    2    2    3   7\n",
              " 14  15       벨라루스    2    1    0   3\n",
              " 15  16         중국    1    6    2   9\n",
              " 16  17  슬로바키아 공화국    1    2    0   3\n",
              " 17  18        핀란드    1    1    1   3\n",
              " 18  19         영국    1    0    4   5\n",
              " 19  20        폴란드    1    0    1   2\n",
              " 20  21        헝가리    1    0    0   1\n",
              " 21  21      우크라이나    1    0    0   1\n",
              " 22  23         호주    0    2    1   3\n",
              " 23  24      슬로베니아    0    1    1   2\n",
              " 24  25        벨기에    0    1    0   1\n",
              " 25  26       뉴질랜드    0    0    2   2\n",
              " 26  26        스페인    0    0    2   2\n",
              " 27  28      카자흐스탄    0    0    1   1\n",
              " 28  28       라트비아    0    0    1   1\n",
              " 29  28     리히텐슈타인    0    0    1   1]"
            ]
          },
          "metadata": {},
          "execution_count": 39
        }
      ]
    },
    {
      "cell_type": "code",
      "source": [
        ""
      ],
      "metadata": {
        "id": "-dnseAXisoM0"
      },
      "execution_count": null,
      "outputs": []
    }
  ]
}
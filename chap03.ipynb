{
  "nbformat": 4,
  "nbformat_minor": 0,
  "metadata": {
    "kernelspec": {
      "display_name": "Python 3",
      "language": "python",
      "name": "python3"
    },
    "language_info": {
      "codemirror_mode": {
        "name": "ipython",
        "version": 3
      },
      "file_extension": ".py",
      "mimetype": "text/x-python",
      "name": "python",
      "nbconvert_exporter": "python",
      "pygments_lexer": "ipython3",
      "version": "3.7.4"
    },
    "toc": {
      "nav_menu": {},
      "number_sections": true,
      "sideBar": true,
      "skip_h1_title": false,
      "toc_cell": false,
      "toc_position": {},
      "toc_section_display": "block",
      "toc_window_display": false
    },
    "colab": {
      "name": "chap03.ipynb",
      "provenance": [],
      "include_colab_link": true
    }
  },
  "cells": [
    {
      "cell_type": "markdown",
      "metadata": {
        "id": "view-in-github",
        "colab_type": "text"
      },
      "source": [
        "<a href=\"https://colab.research.google.com/github/Kwangbin/statistic/blob/main/chap03.ipynb\" target=\"_parent\"><img src=\"https://colab.research.google.com/assets/colab-badge.svg\" alt=\"Open In Colab\"/></a>"
      ]
    },
    {
      "cell_type": "markdown",
      "metadata": {
        "id": "TH2S5UBiDbFO"
      },
      "source": [
        "# 2차원 데이터의 정리"
      ]
    },
    {
      "cell_type": "code",
      "metadata": {
        "colab": {
          "base_uri": "https://localhost:8080/"
        },
        "id": "X9Wj2OSwDh9I",
        "outputId": "54449e71-9d68-40ae-c88d-a1c8f134dbb4"
      },
      "source": [
        "from google.colab import drive\n",
        "drive.mount('/content/drive')"
      ],
      "execution_count": 1,
      "outputs": [
        {
          "output_type": "stream",
          "name": "stdout",
          "text": [
            "Mounted at /content/drive\n"
          ]
        }
      ]
    },
    {
      "cell_type": "markdown",
      "metadata": {
        "id": "BZeQai-1DbFU"
      },
      "source": [
        "## 두 데이터 사이의 관계를 나타내는 지표"
      ]
    },
    {
      "cell_type": "code",
      "metadata": {
        "ExecuteTime": {
          "end_time": "2018-08-14T06:40:19.527554Z",
          "start_time": "2018-08-14T06:40:19.362974Z"
        },
        "id": "hytjYgnJDbFV"
      },
      "source": [
        "import numpy as np\n",
        "import pandas as pd\n",
        "\n",
        "%precision 3\n",
        "pd.set_option('precision', 3)"
      ],
      "execution_count": 16,
      "outputs": []
    },
    {
      "cell_type": "code",
      "metadata": {
        "colab": {
          "base_uri": "https://localhost:8080/"
        },
        "id": "4f13xL_tEQo2",
        "outputId": "9277dd5e-65dc-4429-fbd6-1356f5ace98a"
      },
      "source": [
        "cd drive/MyDrive/ml/statistic/"
      ],
      "execution_count": 17,
      "outputs": [
        {
          "output_type": "stream",
          "name": "stdout",
          "text": [
            "[Errno 2] No such file or directory: 'drive/MyDrive/ml/statistic/'\n",
            "/content/drive/MyDrive/ml/statistic\n"
          ]
        }
      ]
    },
    {
      "cell_type": "code",
      "metadata": {
        "ExecuteTime": {
          "end_time": "2018-08-14T06:40:19.532933Z",
          "start_time": "2018-08-14T06:40:19.528592Z"
        },
        "id": "7HLmdkLSDbFX"
      },
      "source": [
        "df = pd.read_csv('data/ch2_scores_em.csv',\n",
        "                 index_col='student number')"
      ],
      "execution_count": 18,
      "outputs": []
    },
    {
      "cell_type": "code",
      "metadata": {
        "colab": {
          "base_uri": "https://localhost:8080/",
          "height": 235
        },
        "id": "wcPeP-8uEahj",
        "outputId": "cd213d62-4105-40dd-ae33-3499aab5debf"
      },
      "source": [
        "df.head()"
      ],
      "execution_count": 19,
      "outputs": [
        {
          "output_type": "execute_result",
          "data": {
            "text/html": [
              "<div>\n",
              "<style scoped>\n",
              "    .dataframe tbody tr th:only-of-type {\n",
              "        vertical-align: middle;\n",
              "    }\n",
              "\n",
              "    .dataframe tbody tr th {\n",
              "        vertical-align: top;\n",
              "    }\n",
              "\n",
              "    .dataframe thead th {\n",
              "        text-align: right;\n",
              "    }\n",
              "</style>\n",
              "<table border=\"1\" class=\"dataframe\">\n",
              "  <thead>\n",
              "    <tr style=\"text-align: right;\">\n",
              "      <th></th>\n",
              "      <th>english</th>\n",
              "      <th>mathematics</th>\n",
              "    </tr>\n",
              "    <tr>\n",
              "      <th>student number</th>\n",
              "      <th></th>\n",
              "      <th></th>\n",
              "    </tr>\n",
              "  </thead>\n",
              "  <tbody>\n",
              "    <tr>\n",
              "      <th>1</th>\n",
              "      <td>42</td>\n",
              "      <td>65</td>\n",
              "    </tr>\n",
              "    <tr>\n",
              "      <th>2</th>\n",
              "      <td>69</td>\n",
              "      <td>80</td>\n",
              "    </tr>\n",
              "    <tr>\n",
              "      <th>3</th>\n",
              "      <td>56</td>\n",
              "      <td>63</td>\n",
              "    </tr>\n",
              "    <tr>\n",
              "      <th>4</th>\n",
              "      <td>41</td>\n",
              "      <td>63</td>\n",
              "    </tr>\n",
              "    <tr>\n",
              "      <th>5</th>\n",
              "      <td>57</td>\n",
              "      <td>76</td>\n",
              "    </tr>\n",
              "  </tbody>\n",
              "</table>\n",
              "</div>"
            ],
            "text/plain": [
              "                english  mathematics\n",
              "student number                      \n",
              "1                    42           65\n",
              "2                    69           80\n",
              "3                    56           63\n",
              "4                    41           63\n",
              "5                    57           76"
            ]
          },
          "metadata": {},
          "execution_count": 19
        }
      ]
    },
    {
      "cell_type": "code",
      "metadata": {
        "ExecuteTime": {
          "end_time": "2018-08-14T06:40:19.544111Z",
          "start_time": "2018-08-14T06:40:19.534006Z"
        },
        "colab": {
          "base_uri": "https://localhost:8080/",
          "height": 235
        },
        "id": "nqtsodjyDbFY",
        "outputId": "29eef410-5c10-4ac5-c8e8-8bf76374af46"
      },
      "source": [
        "en_scores = np.array(df['english'])[:10]\n",
        "ma_scores = np.array(df['mathematics'])[:10]\n",
        "\n",
        "scores_df = pd.DataFrame({'english':en_scores,\n",
        "                          'mathematics':ma_scores},\n",
        "                         index=pd.Index(['A', 'B', 'C', 'D', 'E',\n",
        "                                         'F', 'G', 'H', 'I', 'J'],\n",
        "                                        name='student'))\n",
        "scores_df.head()"
      ],
      "execution_count": 27,
      "outputs": [
        {
          "output_type": "execute_result",
          "data": {
            "text/html": [
              "<div>\n",
              "<style scoped>\n",
              "    .dataframe tbody tr th:only-of-type {\n",
              "        vertical-align: middle;\n",
              "    }\n",
              "\n",
              "    .dataframe tbody tr th {\n",
              "        vertical-align: top;\n",
              "    }\n",
              "\n",
              "    .dataframe thead th {\n",
              "        text-align: right;\n",
              "    }\n",
              "</style>\n",
              "<table border=\"1\" class=\"dataframe\">\n",
              "  <thead>\n",
              "    <tr style=\"text-align: right;\">\n",
              "      <th></th>\n",
              "      <th>english</th>\n",
              "      <th>mathematics</th>\n",
              "    </tr>\n",
              "    <tr>\n",
              "      <th>student</th>\n",
              "      <th></th>\n",
              "      <th></th>\n",
              "    </tr>\n",
              "  </thead>\n",
              "  <tbody>\n",
              "    <tr>\n",
              "      <th>A</th>\n",
              "      <td>42</td>\n",
              "      <td>65</td>\n",
              "    </tr>\n",
              "    <tr>\n",
              "      <th>B</th>\n",
              "      <td>69</td>\n",
              "      <td>80</td>\n",
              "    </tr>\n",
              "    <tr>\n",
              "      <th>C</th>\n",
              "      <td>56</td>\n",
              "      <td>63</td>\n",
              "    </tr>\n",
              "    <tr>\n",
              "      <th>D</th>\n",
              "      <td>41</td>\n",
              "      <td>63</td>\n",
              "    </tr>\n",
              "    <tr>\n",
              "      <th>E</th>\n",
              "      <td>57</td>\n",
              "      <td>76</td>\n",
              "    </tr>\n",
              "  </tbody>\n",
              "</table>\n",
              "</div>"
            ],
            "text/plain": [
              "         english  mathematics\n",
              "student                      \n",
              "A             42           65\n",
              "B             69           80\n",
              "C             56           63\n",
              "D             41           63\n",
              "E             57           76"
            ]
          },
          "metadata": {},
          "execution_count": 27
        }
      ]
    },
    {
      "cell_type": "markdown",
      "metadata": {
        "id": "dvy1byJwDbFZ"
      },
      "source": [
        "### 共分散"
      ]
    },
    {
      "cell_type": "markdown",
      "metadata": {
        "id": "qsTwAKFhTrIW"
      },
      "source": [
        "공분산(共分散, 영어: covariance)은 2개의 확률변수의 선형 관계를 나타내는 값이다.\n",
        "\n",
        " 만약 2개의 변수중 하나의 값이 상승하는 경향을 보일 때 다른 값도 상승하는 선형 상관성이 있다면 양수의 공분산을 가진다.\n",
        "\n",
        "직사각형의 가로길이는 영어 점수의 편차, 세로는 수학 점수의 편차\n",
        "\n",
        "공분산은 면적, 음의 면적도 가능(음의 상관)\n"
      ]
    },
    {
      "cell_type": "markdown",
      "metadata": {
        "id": "j2NjH0DtTj5l"
      },
      "source": [
        "![그림1.png](data:image/png;base64,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)"
      ]
    },
    {
      "cell_type": "markdown",
      "metadata": {
        "id": "zoe9s2crEts4"
      },
      "source": [
        "###양의상관관계\n",
        "영어 점수가 높은 학생일수록 수학 점수가 높은 경향이 있다면 영어 점수와 수학 점수는 양의 상관 관계\n",
        "\n",
        "###음의상관관계\n",
        "영어 점수가 높은 학생일수록 수학 점수가 낮은 경향이 있다면 영어 점수와 수학 점수는 음의 상관 관계\n",
        "\n",
        "###무상관\n",
        "영어 점수가 수학 점수에 직접적으로 영향을 미치지 않을 때, 영어 점수와 수학 점수는 무상관\n"
      ]
    },
    {
      "cell_type": "code",
      "metadata": {
        "ExecuteTime": {
          "end_time": "2018-08-14T06:40:19.566635Z",
          "start_time": "2018-08-14T06:40:19.545215Z"
        },
        "colab": {
          "base_uri": "https://localhost:8080/",
          "height": 390
        },
        "id": "NwOHF3-kDbFa",
        "outputId": "fab7c4c1-4823-4839-e691-d1955eae1107"
      },
      "source": [
        "summary_df = scores_df.copy()\n",
        "summary_df['english_deviation'] = summary_df['english'] - summary_df['english'].mean()\n",
        "summary_df['mathematics_deviation'] = summary_df['mathematics'] - summary_df['mathematics'].mean()\n",
        "summary_df['product of deviations'] = summary_df['english_deviation'] * summary_df['mathematics_deviation']\n",
        "summary_df"
      ],
      "execution_count": 28,
      "outputs": [
        {
          "output_type": "execute_result",
          "data": {
            "text/html": [
              "<div>\n",
              "<style scoped>\n",
              "    .dataframe tbody tr th:only-of-type {\n",
              "        vertical-align: middle;\n",
              "    }\n",
              "\n",
              "    .dataframe tbody tr th {\n",
              "        vertical-align: top;\n",
              "    }\n",
              "\n",
              "    .dataframe thead th {\n",
              "        text-align: right;\n",
              "    }\n",
              "</style>\n",
              "<table border=\"1\" class=\"dataframe\">\n",
              "  <thead>\n",
              "    <tr style=\"text-align: right;\">\n",
              "      <th></th>\n",
              "      <th>english</th>\n",
              "      <th>mathematics</th>\n",
              "      <th>english_deviation</th>\n",
              "      <th>mathematics_deviation</th>\n",
              "      <th>product of deviations</th>\n",
              "    </tr>\n",
              "    <tr>\n",
              "      <th>student</th>\n",
              "      <th></th>\n",
              "      <th></th>\n",
              "      <th></th>\n",
              "      <th></th>\n",
              "      <th></th>\n",
              "    </tr>\n",
              "  </thead>\n",
              "  <tbody>\n",
              "    <tr>\n",
              "      <th>A</th>\n",
              "      <td>42</td>\n",
              "      <td>65</td>\n",
              "      <td>-13.0</td>\n",
              "      <td>-6.4</td>\n",
              "      <td>83.2</td>\n",
              "    </tr>\n",
              "    <tr>\n",
              "      <th>B</th>\n",
              "      <td>69</td>\n",
              "      <td>80</td>\n",
              "      <td>14.0</td>\n",
              "      <td>8.6</td>\n",
              "      <td>120.4</td>\n",
              "    </tr>\n",
              "    <tr>\n",
              "      <th>C</th>\n",
              "      <td>56</td>\n",
              "      <td>63</td>\n",
              "      <td>1.0</td>\n",
              "      <td>-8.4</td>\n",
              "      <td>-8.4</td>\n",
              "    </tr>\n",
              "    <tr>\n",
              "      <th>D</th>\n",
              "      <td>41</td>\n",
              "      <td>63</td>\n",
              "      <td>-14.0</td>\n",
              "      <td>-8.4</td>\n",
              "      <td>117.6</td>\n",
              "    </tr>\n",
              "    <tr>\n",
              "      <th>E</th>\n",
              "      <td>57</td>\n",
              "      <td>76</td>\n",
              "      <td>2.0</td>\n",
              "      <td>4.6</td>\n",
              "      <td>9.2</td>\n",
              "    </tr>\n",
              "    <tr>\n",
              "      <th>F</th>\n",
              "      <td>48</td>\n",
              "      <td>60</td>\n",
              "      <td>-7.0</td>\n",
              "      <td>-11.4</td>\n",
              "      <td>79.8</td>\n",
              "    </tr>\n",
              "    <tr>\n",
              "      <th>G</th>\n",
              "      <td>65</td>\n",
              "      <td>81</td>\n",
              "      <td>10.0</td>\n",
              "      <td>9.6</td>\n",
              "      <td>96.0</td>\n",
              "    </tr>\n",
              "    <tr>\n",
              "      <th>H</th>\n",
              "      <td>49</td>\n",
              "      <td>66</td>\n",
              "      <td>-6.0</td>\n",
              "      <td>-5.4</td>\n",
              "      <td>32.4</td>\n",
              "    </tr>\n",
              "    <tr>\n",
              "      <th>I</th>\n",
              "      <td>65</td>\n",
              "      <td>78</td>\n",
              "      <td>10.0</td>\n",
              "      <td>6.6</td>\n",
              "      <td>66.0</td>\n",
              "    </tr>\n",
              "    <tr>\n",
              "      <th>J</th>\n",
              "      <td>58</td>\n",
              "      <td>82</td>\n",
              "      <td>3.0</td>\n",
              "      <td>10.6</td>\n",
              "      <td>31.8</td>\n",
              "    </tr>\n",
              "  </tbody>\n",
              "</table>\n",
              "</div>"
            ],
            "text/plain": [
              "         english  mathematics  ...  mathematics_deviation  product of deviations\n",
              "student                        ...                                              \n",
              "A             42           65  ...                   -6.4                   83.2\n",
              "B             69           80  ...                    8.6                  120.4\n",
              "C             56           63  ...                   -8.4                   -8.4\n",
              "D             41           63  ...                   -8.4                  117.6\n",
              "E             57           76  ...                    4.6                    9.2\n",
              "F             48           60  ...                  -11.4                   79.8\n",
              "G             65           81  ...                    9.6                   96.0\n",
              "H             49           66  ...                   -5.4                   32.4\n",
              "I             65           78  ...                    6.6                   66.0\n",
              "J             58           82  ...                   10.6                   31.8\n",
              "\n",
              "[10 rows x 5 columns]"
            ]
          },
          "metadata": {},
          "execution_count": 28
        }
      ]
    },
    {
      "cell_type": "code",
      "metadata": {
        "id": "oPK9oHD4ITwj"
      },
      "source": [
        "import matplotlib.pyplot as plt\n",
        "\n",
        "%matplotlib inline"
      ],
      "execution_count": 29,
      "outputs": []
    },
    {
      "cell_type": "code",
      "metadata": {
        "colab": {
          "base_uri": "https://localhost:8080/",
          "height": 265
        },
        "id": "z_PzgsycIl6h",
        "outputId": "55f74cd4-813d-4b82-83fd-5362b873418a"
      },
      "source": [
        "en=summary_df['english']\n",
        "ma=summary_df['mathematics']\n",
        "plt.scatter(en,ma)\n",
        "plt.show()"
      ],
      "execution_count": 30,
      "outputs": [
        {
          "output_type": "display_data",
          "data": {
            "image/png": "[encoded data removed]",
            "text/plain": [
              "<Figure size 432x288 with 1 Axes>"
            ]
          },
          "metadata": {
            "needs_background": "light"
          }
        }
      ]
    },
    {
      "cell_type": "code",
      "metadata": {
        "ExecuteTime": {
          "end_time": "2018-08-14T06:40:19.570409Z",
          "start_time": "2018-08-14T06:40:19.567674Z"
        },
        "colab": {
          "base_uri": "https://localhost:8080/"
        },
        "id": "rmzOlmupDbFb",
        "outputId": "f5bc9a43-a5b6-4949-f1aa-664ce1ba224d"
      },
      "source": [
        "summary_df['product of deviations'].mean()"
      ],
      "execution_count": 31,
      "outputs": [
        {
          "output_type": "execute_result",
          "data": {
            "text/plain": [
              "62.800"
            ]
          },
          "metadata": {},
          "execution_count": 31
        }
      ]
    },
    {
      "cell_type": "code",
      "metadata": {
        "colab": {
          "base_uri": "https://localhost:8080/"
        },
        "id": "y2bVdHgiUBK8",
        "outputId": "c7cd1f64-2fec-461f-fc76-7e7fb01ffc79"
      },
      "source": [
        "#영어 분산\n",
        "en_scores.var()"
      ],
      "execution_count": 32,
      "outputs": [
        {
          "output_type": "execute_result",
          "data": {
            "text/plain": [
              "86.000"
            ]
          },
          "metadata": {},
          "execution_count": 32
        }
      ]
    },
    {
      "cell_type": "code",
      "metadata": {
        "colab": {
          "base_uri": "https://localhost:8080/"
        },
        "id": "aR3k-cBCFO0P",
        "outputId": "8252d888-ba7e-4fd7-9d5b-2289ccc236bd"
      },
      "source": [
        "#수학분산\n",
        "ma_scores.var()"
      ],
      "execution_count": 37,
      "outputs": [
        {
          "output_type": "execute_result",
          "data": {
            "text/plain": [
              "68.440"
            ]
          },
          "metadata": {},
          "execution_count": 37
        }
      ]
    },
    {
      "cell_type": "code",
      "metadata": {
        "ExecuteTime": {
          "end_time": "2018-08-14T06:40:19.575907Z",
          "start_time": "2018-08-14T06:40:19.571427Z"
        },
        "colab": {
          "base_uri": "https://localhost:8080/"
        },
        "id": "eOT3hd3aDbFd",
        "outputId": "320fe995-fb4f-4cf5-c939-6fc772bc007c"
      },
      "source": [
        "cov_mat = np.cov(en_scores, ma_scores, ddof=0)\n",
        "cov_mat"
      ],
      "execution_count": 38,
      "outputs": [
        {
          "output_type": "execute_result",
          "data": {
            "text/plain": [
              "array([[86.  , 62.8 ],\n",
              "       [62.8 , 68.44]])"
            ]
          },
          "metadata": {},
          "execution_count": 38
        }
      ]
    },
    {
      "cell_type": "markdown",
      "metadata": {
        "id": "vgmUh9toU0Zg"
      },
      "source": [
        "x분산, 공분산\n",
        "\n",
        "공분산, y분산\n"
      ]
    },
    {
      "cell_type": "code",
      "metadata": {
        "ExecuteTime": {
          "end_time": "2018-08-14T06:40:19.580080Z",
          "start_time": "2018-08-14T06:40:19.577571Z"
        },
        "colab": {
          "base_uri": "https://localhost:8080/"
        },
        "id": "l-SRfC19DbFg",
        "outputId": "61f98b2b-7900-4c3f-aa29-da4231870e6a"
      },
      "source": [
        "#1행 2열, 2행 1열 성분이 영어 수학의 공분산\n",
        "\n",
        "cov_mat[0, 1], cov_mat[1, 0]"
      ],
      "execution_count": 40,
      "outputs": [
        {
          "output_type": "execute_result",
          "data": {
            "text/plain": [
              "(62.800, 62.800)"
            ]
          },
          "metadata": {},
          "execution_count": 40
        }
      ]
    },
    {
      "cell_type": "code",
      "metadata": {
        "ExecuteTime": {
          "end_time": "2018-08-14T06:40:19.583685Z",
          "start_time": "2018-08-14T06:40:19.581281Z"
        },
        "colab": {
          "base_uri": "https://localhost:8080/"
        },
        "id": "NjJ6BzYnDbFg",
        "outputId": "6fd37225-fdd2-47d9-98c1-e19310ee00f5"
      },
      "source": [
        "#1행 1열 영어 영어의 공분산  즉 영어의 분산\n",
        "#2행 2열 수학 수학의 공분산  즉 수학의 분산\n",
        "\n",
        "cov_mat[0, 0], cov_mat[1, 1]"
      ],
      "execution_count": 42,
      "outputs": [
        {
          "output_type": "execute_result",
          "data": {
            "text/plain": [
              "(86.000, 68.440)"
            ]
          },
          "metadata": {},
          "execution_count": 42
        }
      ]
    },
    {
      "cell_type": "code",
      "metadata": {
        "ExecuteTime": {
          "end_time": "2018-08-14T06:40:19.588330Z",
          "start_time": "2018-08-14T06:40:19.584646Z"
        },
        "colab": {
          "base_uri": "https://localhost:8080/"
        },
        "id": "wyqQA3JXDbFh",
        "outputId": "e8549dc4-79e1-421c-8962-fb4381524ed7"
      },
      "source": [
        "np.var(en_scores), np.var(ma_scores)"
      ],
      "execution_count": 43,
      "outputs": [
        {
          "output_type": "execute_result",
          "data": {
            "text/plain": [
              "(86.000, 68.440)"
            ]
          },
          "metadata": {},
          "execution_count": 43
        }
      ]
    },
    {
      "cell_type": "markdown",
      "metadata": {
        "id": "L09p8183DbFi"
      },
      "source": [
        "### 상관계수"
      ]
    },
    {
      "cell_type": "markdown",
      "metadata": {
        "id": "P0-HVbRfHocK"
      },
      "source": [
        "공분산의 단위는 직감적으로 이해하기 어려우므로, \n",
        "\n",
        "단위에 의존하지 않는 상관을 나타내는 지표\n",
        "시험 점수간의 공분산 (점수X점수), 키와 점수 (cm X 점수)\n"
      ]
    },
    {
      "cell_type": "markdown",
      "metadata": {
        "id": "zmTwFz9TH7bn"
      },
      "source": [
        "양의 상관은 1에 가까워지고, 음의 상관은 -1에 가까워지고, 무상관은 "
      ]
    },
    {
      "cell_type": "code",
      "metadata": {
        "colab": {
          "base_uri": "https://localhost:8080/"
        },
        "id": "MZML4cvCIHSX",
        "outputId": "25e16c91-04a6-4737-a823-2eabc62bc5df"
      },
      "source": [
        "np.cov(en_scores,ma_scores)"
      ],
      "execution_count": 44,
      "outputs": [
        {
          "output_type": "execute_result",
          "data": {
            "text/plain": [
              "array([[95.556, 69.778],\n",
              "       [69.778, 76.044]])"
            ]
          },
          "metadata": {},
          "execution_count": 44
        }
      ]
    },
    {
      "cell_type": "code",
      "metadata": {
        "ExecuteTime": {
          "end_time": "2018-08-14T06:40:19.592372Z",
          "start_time": "2018-08-14T06:40:19.589231Z"
        },
        "id": "IehMEuohDbFi",
        "colab": {
          "base_uri": "https://localhost:8080/"
        },
        "outputId": "f1d09882-3d30-4f80-8a6c-fb9de3ede23c"
      },
      "source": [
        "#수식으로 풀면\n",
        "np.cov(en_scores, ma_scores, ddof=0)[0, 1] / (np.std(en_scores) * np.std(ma_scores))"
      ],
      "execution_count": 45,
      "outputs": [
        {
          "output_type": "execute_result",
          "data": {
            "text/plain": [
              "0.819"
            ]
          },
          "metadata": {},
          "execution_count": 45
        }
      ]
    },
    {
      "cell_type": "code",
      "metadata": {
        "ExecuteTime": {
          "end_time": "2018-08-14T06:40:19.597039Z",
          "start_time": "2018-08-14T06:40:19.593315Z"
        },
        "id": "VVlWSAfmDbFj",
        "colab": {
          "base_uri": "https://localhost:8080/"
        },
        "outputId": "cd86ea78-4f66-4bc0-a2c1-046583ca9851"
      },
      "source": [
        "#NumPy의 corrcoef 함수(상관행렬의 [0,1] [1,0] 성분)\n",
        "\n",
        "np.corrcoef(en_scores, ma_scores)"
      ],
      "execution_count": 48,
      "outputs": [
        {
          "output_type": "execute_result",
          "data": {
            "text/plain": [
              "array([[1.   , 0.819],\n",
              "       [0.819, 1.   ]])"
            ]
          },
          "metadata": {},
          "execution_count": 48
        }
      ]
    },
    {
      "cell_type": "code",
      "metadata": {
        "ExecuteTime": {
          "end_time": "2018-08-14T06:40:19.602887Z",
          "start_time": "2018-08-14T06:40:19.598025Z"
        },
        "id": "BzuCFZsCDbFk",
        "colab": {
          "base_uri": "https://localhost:8080/",
          "height": 111
        },
        "outputId": "9407c574-bea3-4595-ef76-09761d070613"
      },
      "source": [
        "#DataFrame의 corr 메서드\n",
        "\n",
        "scores_df.corr()"
      ],
      "execution_count": 49,
      "outputs": [
        {
          "output_type": "execute_result",
          "data": {
            "text/html": [
              "<div>\n",
              "<style scoped>\n",
              "    .dataframe tbody tr th:only-of-type {\n",
              "        vertical-align: middle;\n",
              "    }\n",
              "\n",
              "    .dataframe tbody tr th {\n",
              "        vertical-align: top;\n",
              "    }\n",
              "\n",
              "    .dataframe thead th {\n",
              "        text-align: right;\n",
              "    }\n",
              "</style>\n",
              "<table border=\"1\" class=\"dataframe\">\n",
              "  <thead>\n",
              "    <tr style=\"text-align: right;\">\n",
              "      <th></th>\n",
              "      <th>english</th>\n",
              "      <th>mathematics</th>\n",
              "    </tr>\n",
              "  </thead>\n",
              "  <tbody>\n",
              "    <tr>\n",
              "      <th>english</th>\n",
              "      <td>1.000</td>\n",
              "      <td>0.819</td>\n",
              "    </tr>\n",
              "    <tr>\n",
              "      <th>mathematics</th>\n",
              "      <td>0.819</td>\n",
              "      <td>1.000</td>\n",
              "    </tr>\n",
              "  </tbody>\n",
              "</table>\n",
              "</div>"
            ],
            "text/plain": [
              "             english  mathematics\n",
              "english        1.000        0.819\n",
              "mathematics    0.819        1.000"
            ]
          },
          "metadata": {},
          "execution_count": 49
        }
      ]
    },
    {
      "cell_type": "markdown",
      "metadata": {
        "id": "iMn33SicDbFk"
      },
      "source": [
        "## 2차원 데이터의 시각화"
      ]
    },
    {
      "cell_type": "markdown",
      "metadata": {
        "id": "t_4xBiGCDbFk"
      },
      "source": [
        "### 산점도"
      ]
    },
    {
      "cell_type": "code",
      "metadata": {
        "ExecuteTime": {
          "end_time": "2018-08-14T06:40:19.675926Z",
          "start_time": "2018-08-14T06:40:19.603899Z"
        },
        "id": "pRLAdVwWDbFl"
      },
      "source": [
        "import matplotlib.pyplot as plt\n",
        "\n",
        "%matplotlib inline"
      ],
      "execution_count": 50,
      "outputs": []
    },
    {
      "cell_type": "code",
      "metadata": {
        "ExecuteTime": {
          "end_time": "2018-08-14T06:40:19.805306Z",
          "start_time": "2018-08-14T06:40:19.677328Z"
        },
        "id": "-5YO87kLDbFl",
        "colab": {
          "base_uri": "https://localhost:8080/",
          "height": 497
        },
        "outputId": "f3244e69-15ac-4768-85e1-cb01485181ee"
      },
      "source": [
        "english_scores = np.array(df['english'])\n",
        "math_scores = np.array(df['mathematics'])\n",
        "\n",
        "fig = plt.figure(figsize=(8, 8))\n",
        "ax = fig.add_subplot(111)\n",
        "# 산점도\n",
        "ax.scatter(english_scores, math_scores)\n",
        "ax.set_xlabel('english')\n",
        "ax.set_ylabel('mathematics')\n",
        "\n",
        "plt.show()"
      ],
      "execution_count": 51,
      "outputs": [
        {
          "output_type": "display_data",
          "data": {
            "image/png": "[encoded data removed]",
            "text/plain": [
              "<Figure size 576x576 with 1 Axes>"
            ]
          },
          "metadata": {
            "needs_background": "light"
          }
        }
      ]
    },
    {
      "cell_type": "markdown",
      "metadata": {
        "id": "OVF6QAdJDbFm"
      },
      "source": [
        "### 회귀직선"
      ]
    },
    {
      "cell_type": "code",
      "metadata": {
        "ExecuteTime": {
          "end_time": "2018-08-14T06:40:19.900171Z",
          "start_time": "2018-08-14T06:40:19.806854Z"
        },
        "id": "Io70--zlDbFm",
        "colab": {
          "base_uri": "https://localhost:8080/",
          "height": 497
        },
        "outputId": "80084d8a-4b91-4a5f-c7d0-8a57f78bfdd0"
      },
      "source": [
        "# 계수β_0와β_1를 구한다\n",
        "poly_fit = np.polyfit(english_scores, math_scores, 1)\n",
        "# β_0+β_1 x를 반환하는 함수를 작성\n",
        "poly_1d = np.poly1d(poly_fit)\n",
        "# 직선을 그리기 위해 x좌표를 생성\n",
        "xs = np.linspace(english_scores.min(), english_scores.max())\n",
        "# xs에 대응하는 y좌표를 구한다\n",
        "ys = poly_1d(xs)\n",
        "\n",
        "fig = plt.figure(figsize=(8, 8))\n",
        "ax = fig.add_subplot(111)\n",
        "ax.set_xlabel('english')\n",
        "ax.set_ylabel('mathematics')\n",
        "ax.scatter(english_scores, math_scores, label='score')\n",
        "ax.plot(xs, ys, color='gray',\n",
        "        label=f'{poly_fit[1]:.2f}+{poly_fit[0]:.2f}x')\n",
        "# 범례의 표시\n",
        "ax.legend(loc='upper left')\n",
        "\n",
        "plt.show()"
      ],
      "execution_count": 52,
      "outputs": [
        {
          "output_type": "display_data",
          "data": {
            "image/png": "[encoded data removed]",
            "text/plain": [
              "<Figure size 576x576 with 1 Axes>"
            ]
          },
          "metadata": {
            "needs_background": "light"
          }
        }
      ]
    },
    {
      "cell_type": "markdown",
      "metadata": {
        "id": "2ukX4e9vDbFm"
      },
      "source": [
        "### 히트맵"
      ]
    },
    {
      "cell_type": "code",
      "metadata": {
        "ExecuteTime": {
          "end_time": "2018-08-14T06:40:20.028133Z",
          "start_time": "2018-08-14T06:40:19.901235Z"
        },
        "id": "tEAg7_stDbFn",
        "colab": {
          "base_uri": "https://localhost:8080/",
          "height": 501
        },
        "outputId": "5fe76048-acd8-47da-b7ed-999209209db1"
      },
      "source": [
        "fig = plt.figure(figsize=(10, 8))\n",
        "ax = fig.add_subplot(111)\n",
        "\n",
        "c = ax.hist2d(english_scores, math_scores,\n",
        "              bins=[9, 8], range=[(35, 80), (55, 95)])\n",
        "ax.set_xlabel('english')\n",
        "ax.set_ylabel('mathematics')\n",
        "ax.set_xticks(c[1])\n",
        "ax.set_yticks(c[2])\n",
        "# 컬러 바의 표시\n",
        "fig.colorbar(c[3], ax=ax)\n",
        "plt.show()"
      ],
      "execution_count": 53,
      "outputs": [
        {
          "output_type": "display_data",
          "data": {
            "image/png": "[encoded data removed]",
            "text/plain": [
              "<Figure size 720x576 with 2 Axes>"
            ]
          },
          "metadata": {
            "needs_background": "light"
          }
        }
      ]
    },
    {
      "cell_type": "markdown",
      "metadata": {
        "id": "3iGMiX-WDbFn"
      },
      "source": [
        "## 앤스컴의 예"
      ]
    },
    {
      "cell_type": "code",
      "metadata": {
        "ExecuteTime": {
          "end_time": "2018-08-14T06:40:20.034280Z",
          "start_time": "2018-08-14T06:40:20.029676Z"
        },
        "scrolled": true,
        "id": "vCf5_3GfDbFn",
        "colab": {
          "base_uri": "https://localhost:8080/"
        },
        "outputId": "d922dee2-4574-44d9-abd3-d2d75cf122c0"
      },
      "source": [
        "# npy 형식으로 저장된 NumPy array를 읽어들인다\n",
        "anscombe_data = np.load('data/ch3_anscombe.npy')\n",
        "print(anscombe_data.shape)\n",
        "anscombe_data[0]"
      ],
      "execution_count": 55,
      "outputs": [
        {
          "output_type": "stream",
          "name": "stdout",
          "text": [
            "(4, 11, 2)\n"
          ]
        },
        {
          "output_type": "execute_result",
          "data": {
            "text/plain": [
              "array([[10.  ,  8.04],\n",
              "       [ 8.  ,  6.95],\n",
              "       [13.  ,  7.58],\n",
              "       [ 9.  ,  8.81],\n",
              "       [11.  ,  8.33],\n",
              "       [14.  ,  9.96],\n",
              "       [ 6.  ,  7.24],\n",
              "       [ 4.  ,  4.26],\n",
              "       [12.  , 10.84],\n",
              "       [ 7.  ,  4.82],\n",
              "       [ 5.  ,  5.68]])"
            ]
          },
          "metadata": {},
          "execution_count": 55
        }
      ]
    },
    {
      "cell_type": "code",
      "metadata": {
        "ExecuteTime": {
          "end_time": "2018-08-14T06:40:20.052006Z",
          "start_time": "2018-08-14T06:40:20.035614Z"
        },
        "id": "dtK7UNtZDbFo",
        "colab": {
          "base_uri": "https://localhost:8080/",
          "height": 235
        },
        "outputId": "468ef052-8ef3-4f23-a1f2-6dc4dce2eaf6"
      },
      "source": [
        "stats_df = pd.DataFrame(index=['X_mean', 'X_variance', 'Y_mean',\n",
        "                               'Y_variance', 'X&Y_correlation',\n",
        "                               'X&Y_regression line'])\n",
        "for i, data in enumerate(anscombe_data):\n",
        "    dataX = data[:, 0]\n",
        "    dataY = data[:, 1]\n",
        "    poly_fit = np.polyfit(dataX, dataY, 1)\n",
        "    stats_df[f'data{i+1}'] =\\\n",
        "        [f'{np.mean(dataX):.2f}',\n",
        "         f'{np.var(dataX):.2f}',\n",
        "         f'{np.mean(dataY):.2f}',\n",
        "         f'{np.var(dataY):.2f}',\n",
        "         f'{np.corrcoef(dataX, dataY)[0, 1]:.2f}',\n",
        "         f'{poly_fit[1]:.2f}+{poly_fit[0]:.2f}x']\n",
        "stats_df"
      ],
      "execution_count": 56,
      "outputs": [
        {
          "output_type": "execute_result",
          "data": {
            "text/html": [
              "<div>\n",
              "<style scoped>\n",
              "    .dataframe tbody tr th:only-of-type {\n",
              "        vertical-align: middle;\n",
              "    }\n",
              "\n",
              "    .dataframe tbody tr th {\n",
              "        vertical-align: top;\n",
              "    }\n",
              "\n",
              "    .dataframe thead th {\n",
              "        text-align: right;\n",
              "    }\n",
              "</style>\n",
              "<table border=\"1\" class=\"dataframe\">\n",
              "  <thead>\n",
              "    <tr style=\"text-align: right;\">\n",
              "      <th></th>\n",
              "      <th>data1</th>\n",
              "      <th>data2</th>\n",
              "      <th>data3</th>\n",
              "      <th>data4</th>\n",
              "    </tr>\n",
              "  </thead>\n",
              "  <tbody>\n",
              "    <tr>\n",
              "      <th>X_mean</th>\n",
              "      <td>9.00</td>\n",
              "      <td>9.00</td>\n",
              "      <td>9.00</td>\n",
              "      <td>9.00</td>\n",
              "    </tr>\n",
              "    <tr>\n",
              "      <th>X_variance</th>\n",
              "      <td>10.00</td>\n",
              "      <td>10.00</td>\n",
              "      <td>10.00</td>\n",
              "      <td>10.00</td>\n",
              "    </tr>\n",
              "    <tr>\n",
              "      <th>Y_mean</th>\n",
              "      <td>7.50</td>\n",
              "      <td>7.50</td>\n",
              "      <td>7.50</td>\n",
              "      <td>7.50</td>\n",
              "    </tr>\n",
              "    <tr>\n",
              "      <th>Y_variance</th>\n",
              "      <td>3.75</td>\n",
              "      <td>3.75</td>\n",
              "      <td>3.75</td>\n",
              "      <td>3.75</td>\n",
              "    </tr>\n",
              "    <tr>\n",
              "      <th>X&amp;Y_correlation</th>\n",
              "      <td>0.82</td>\n",
              "      <td>0.82</td>\n",
              "      <td>0.82</td>\n",
              "      <td>0.82</td>\n",
              "    </tr>\n",
              "    <tr>\n",
              "      <th>X&amp;Y_regression line</th>\n",
              "      <td>3.00+0.50x</td>\n",
              "      <td>3.00+0.50x</td>\n",
              "      <td>3.00+0.50x</td>\n",
              "      <td>3.00+0.50x</td>\n",
              "    </tr>\n",
              "  </tbody>\n",
              "</table>\n",
              "</div>"
            ],
            "text/plain": [
              "                          data1       data2       data3       data4\n",
              "X_mean                     9.00        9.00        9.00        9.00\n",
              "X_variance                10.00       10.00       10.00       10.00\n",
              "Y_mean                     7.50        7.50        7.50        7.50\n",
              "Y_variance                 3.75        3.75        3.75        3.75\n",
              "X&Y_correlation            0.82        0.82        0.82        0.82\n",
              "X&Y_regression line  3.00+0.50x  3.00+0.50x  3.00+0.50x  3.00+0.50x"
            ]
          },
          "metadata": {},
          "execution_count": 56
        }
      ]
    },
    {
      "cell_type": "markdown",
      "metadata": {
        "id": "GzjCrOhsJkrL"
      },
      "source": [
        "모든 데이터의 기본 통계 값이 동일 하다"
      ]
    },
    {
      "cell_type": "code",
      "metadata": {
        "ExecuteTime": {
          "end_time": "2018-08-14T06:40:20.368592Z",
          "start_time": "2018-08-14T06:40:20.053270Z"
        },
        "scrolled": false,
        "id": "TuJ7ZtgADbFo",
        "colab": {
          "base_uri": "https://localhost:8080/",
          "height": 729
        },
        "outputId": "b563e2f7-025b-4089-bdf1-a3bc7c4a30fc"
      },
      "source": [
        "# 그래프를 그리기 위한 영역을 2x2개 생성\n",
        "fig, axes = plt.subplots(nrows=2, ncols=2, figsize=(10, 10),\n",
        "                         sharex=True, sharey=True)\n",
        "\n",
        "xs = np.linspace(0, 30, 100)\n",
        "for i, data in enumerate(anscombe_data):\n",
        "    poly_fit = np.polyfit(data[:,0], data[:,1], 1)\n",
        "    poly_1d = np.poly1d(poly_fit)\n",
        "    ys = poly_1d(xs)\n",
        "    # 그리는 영역을 선택\n",
        "    ax = axes[i//2, i%2]\n",
        "    ax.set_xlim([4, 20])\n",
        "    ax.set_ylim([3, 13])\n",
        "    # 타이틀을 부여\n",
        "    ax.set_title(f'data{i+1}')\n",
        "    ax.scatter(data[:,0], data[:,1])\n",
        "    ax.plot(xs, ys, color='gray')\n",
        "\n",
        "# 그래프 사이의 간격을 좁힘\n",
        "plt.tight_layout()\n",
        "plt.show()"
      ],
      "execution_count": 57,
      "outputs": [
        {
          "output_type": "display_data",
          "data": {
            "image/png": "[encoded data removed]",
            "text/plain": [
              "<Figure size 720x720 with 4 Axes>"
            ]
          },
          "metadata": {
            "needs_background": "light"
          }
        }
      ]
    },
    {
      "cell_type": "markdown",
      "metadata": {
        "id": "ycUdNoWSJq4n"
      },
      "source": [
        "그렇지만 그래프로 확인 하면 다 다른 데이터 들이다"
      ]
    },
    {
      "cell_type": "code",
      "metadata": {
        "id": "UrTtd6tpDbFo"
      },
      "source": [
        ""
      ],
      "execution_count": null,
      "outputs": []
    },
    {
      "cell_type": "code",
      "metadata": {
        "id": "ZE7mBKsBDbFp"
      },
      "source": [
        ""
      ],
      "execution_count": null,
      "outputs": []
    }
  ]
}